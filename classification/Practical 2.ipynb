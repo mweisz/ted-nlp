{
 "cells": [
  {
   "cell_type": "markdown",
   "metadata": {},
   "source": [
    "# TED - Classification"
   ]
  },
  {
   "cell_type": "code",
   "execution_count": 1,
   "metadata": {
    "collapsed": false
   },
   "outputs": [
    {
     "data": {
      "text/html": [
       "\n",
       "    <div class=\"bk-root\">\n",
       "        <a href=\"http://bokeh.pydata.org\" target=\"_blank\" class=\"bk-logo bk-logo-small bk-logo-notebook\"></a>\n",
       "        <span id=\"7fa9b9d3-8270-4767-8cbb-ac60d0fadf91\">Loading BokehJS ...</span>\n",
       "    </div>"
      ]
     },
     "metadata": {},
     "output_type": "display_data"
    },
    {
     "data": {
      "application/javascript": [
       "\n",
       "(function(global) {\n",
       "  function now() {\n",
       "    return new Date();\n",
       "  }\n",
       "\n",
       "  var force = true;\n",
       "\n",
       "  if (typeof (window._bokeh_onload_callbacks) === \"undefined\" || force === true) {\n",
       "    window._bokeh_onload_callbacks = [];\n",
       "    window._bokeh_is_loading = undefined;\n",
       "  }\n",
       "\n",
       "\n",
       "  \n",
       "  if (typeof (window._bokeh_timeout) === \"undefined\" || force === true) {\n",
       "    window._bokeh_timeout = Date.now() + 5000;\n",
       "    window._bokeh_failed_load = false;\n",
       "  }\n",
       "\n",
       "  var NB_LOAD_WARNING = {'data': {'text/html':\n",
       "     \"<div style='background-color: #fdd'>\\n\"+\n",
       "     \"<p>\\n\"+\n",
       "     \"BokehJS does not appear to have successfully loaded. If loading BokehJS from CDN, this \\n\"+\n",
       "     \"may be due to a slow or bad network connection. Possible fixes:\\n\"+\n",
       "     \"</p>\\n\"+\n",
       "     \"<ul>\\n\"+\n",
       "     \"<li>re-rerun `output_notebook()` to attempt to load from CDN again, or</li>\\n\"+\n",
       "     \"<li>use INLINE resources instead, as so:</li>\\n\"+\n",
       "     \"</ul>\\n\"+\n",
       "     \"<code>\\n\"+\n",
       "     \"from bokeh.resources import INLINE\\n\"+\n",
       "     \"output_notebook(resources=INLINE)\\n\"+\n",
       "     \"</code>\\n\"+\n",
       "     \"</div>\"}};\n",
       "\n",
       "  function display_loaded() {\n",
       "    if (window.Bokeh !== undefined) {\n",
       "      document.getElementById(\"7fa9b9d3-8270-4767-8cbb-ac60d0fadf91\").textContent = \"BokehJS successfully loaded.\";\n",
       "    } else if (Date.now() < window._bokeh_timeout) {\n",
       "      setTimeout(display_loaded, 100)\n",
       "    }\n",
       "  }\n",
       "\n",
       "  function run_callbacks() {\n",
       "    window._bokeh_onload_callbacks.forEach(function(callback) { callback() });\n",
       "    delete window._bokeh_onload_callbacks\n",
       "    console.info(\"Bokeh: all callbacks have finished\");\n",
       "  }\n",
       "\n",
       "  function load_libs(js_urls, callback) {\n",
       "    window._bokeh_onload_callbacks.push(callback);\n",
       "    if (window._bokeh_is_loading > 0) {\n",
       "      console.log(\"Bokeh: BokehJS is being loaded, scheduling callback at\", now());\n",
       "      return null;\n",
       "    }\n",
       "    if (js_urls == null || js_urls.length === 0) {\n",
       "      run_callbacks();\n",
       "      return null;\n",
       "    }\n",
       "    console.log(\"Bokeh: BokehJS not loaded, scheduling load and callback at\", now());\n",
       "    window._bokeh_is_loading = js_urls.length;\n",
       "    for (var i = 0; i < js_urls.length; i++) {\n",
       "      var url = js_urls[i];\n",
       "      var s = document.createElement('script');\n",
       "      s.src = url;\n",
       "      s.async = false;\n",
       "      s.onreadystatechange = s.onload = function() {\n",
       "        window._bokeh_is_loading--;\n",
       "        if (window._bokeh_is_loading === 0) {\n",
       "          console.log(\"Bokeh: all BokehJS libraries loaded\");\n",
       "          run_callbacks()\n",
       "        }\n",
       "      };\n",
       "      s.onerror = function() {\n",
       "        console.warn(\"failed to load library \" + url);\n",
       "      };\n",
       "      console.log(\"Bokeh: injecting script tag for BokehJS library: \", url);\n",
       "      document.getElementsByTagName(\"head\")[0].appendChild(s);\n",
       "    }\n",
       "  };var element = document.getElementById(\"7fa9b9d3-8270-4767-8cbb-ac60d0fadf91\");\n",
       "  if (element == null) {\n",
       "    console.log(\"Bokeh: ERROR: autoload.js configured with elementid '7fa9b9d3-8270-4767-8cbb-ac60d0fadf91' but no matching script tag was found. \")\n",
       "    return false;\n",
       "  }\n",
       "\n",
       "  var js_urls = [\"https://cdn.pydata.org/bokeh/release/bokeh-0.12.4.min.js\", \"https://cdn.pydata.org/bokeh/release/bokeh-widgets-0.12.4.min.js\"];\n",
       "\n",
       "  var inline_js = [\n",
       "    function(Bokeh) {\n",
       "      Bokeh.set_log_level(\"info\");\n",
       "    },\n",
       "    \n",
       "    function(Bokeh) {\n",
       "      \n",
       "      document.getElementById(\"7fa9b9d3-8270-4767-8cbb-ac60d0fadf91\").textContent = \"BokehJS is loading...\";\n",
       "    },\n",
       "    function(Bokeh) {\n",
       "      console.log(\"Bokeh: injecting CSS: https://cdn.pydata.org/bokeh/release/bokeh-0.12.4.min.css\");\n",
       "      Bokeh.embed.inject_css(\"https://cdn.pydata.org/bokeh/release/bokeh-0.12.4.min.css\");\n",
       "      console.log(\"Bokeh: injecting CSS: https://cdn.pydata.org/bokeh/release/bokeh-widgets-0.12.4.min.css\");\n",
       "      Bokeh.embed.inject_css(\"https://cdn.pydata.org/bokeh/release/bokeh-widgets-0.12.4.min.css\");\n",
       "    }\n",
       "  ];\n",
       "\n",
       "  function run_inline_js() {\n",
       "    \n",
       "    if ((window.Bokeh !== undefined) || (force === true)) {\n",
       "      for (var i = 0; i < inline_js.length; i++) {\n",
       "        inline_js[i](window.Bokeh);\n",
       "      }if (force === true) {\n",
       "        display_loaded();\n",
       "      }} else if (Date.now() < window._bokeh_timeout) {\n",
       "      setTimeout(run_inline_js, 100);\n",
       "    } else if (!window._bokeh_failed_load) {\n",
       "      console.log(\"Bokeh: BokehJS failed to load within specified timeout.\");\n",
       "      window._bokeh_failed_load = true;\n",
       "    } else if (force !== true) {\n",
       "      var cell = $(document.getElementById(\"7fa9b9d3-8270-4767-8cbb-ac60d0fadf91\")).parents('.cell').data().cell;\n",
       "      cell.output_area.append_execute_result(NB_LOAD_WARNING)\n",
       "    }\n",
       "\n",
       "  }\n",
       "\n",
       "  if (window._bokeh_is_loading === 0) {\n",
       "    console.log(\"Bokeh: BokehJS loaded, going straight to plotting\");\n",
       "    run_inline_js();\n",
       "  } else {\n",
       "    load_libs(js_urls, function() {\n",
       "      console.log(\"Bokeh: BokehJS plotting callback run at\", now());\n",
       "      run_inline_js();\n",
       "    });\n",
       "  }\n",
       "}(this));"
      ]
     },
     "metadata": {},
     "output_type": "display_data"
    }
   ],
   "source": [
    "import urllib.request\n",
    "import zipfile\n",
    "import lxml.etree\n",
    "\n",
    "import numpy as np\n",
    "import os\n",
    "from random import shuffle\n",
    "import re\n",
    "\n",
    "from bokeh.models import ColumnDataSource, LabelSet\n",
    "from bokeh.plotting import figure, show, output_file\n",
    "from bokeh.io import output_notebook\n",
    "output_notebook()"
   ]
  },
  {
   "cell_type": "markdown",
   "metadata": {},
   "source": [
    "### Pre-Processing"
   ]
  },
  {
   "cell_type": "code",
   "execution_count": 2,
   "metadata": {
    "collapsed": false
   },
   "outputs": [],
   "source": [
    "# Download the dataset if it's not already there: this may take a minute as it is 75MB\n",
    "if not os.path.isfile('ted_en-20160408.zip'):\n",
    "    urllib.request.urlretrieve(\"https://wit3.fbk.eu/get.php?path=XML_releases/xml/ted_en-20160408.zip&filename=ted_en-20160408.zip\", filename=\"ted_en-20160408.zip\")"
   ]
  },
  {
   "cell_type": "code",
   "execution_count": 3,
   "metadata": {
    "collapsed": true
   },
   "outputs": [],
   "source": [
    "# For now, we're only interested in the subtitle text, so let's extract that from the XML:\n",
    "with zipfile.ZipFile('ted_en-20160408.zip', 'r') as z:\n",
    "    doc = lxml.etree.parse(z.open('ted_en-20160408.xml', 'r'))\n",
    "texts = doc.xpath('//content/text()')\n",
    "keywords = doc.xpath('//keywords/text()')\n",
    "del doc"
   ]
  },
  {
   "cell_type": "code",
   "execution_count": 4,
   "metadata": {
    "collapsed": false
   },
   "outputs": [
    {
     "name": "stdout",
     "output_type": "stream",
     "text": [
      "2085\n",
      "Here are two reasons companies fail: they only do more of the same, or they only do what's new.\n",
      "To me the real, real solution to quality growth is figuring out the balance between two activities: exploration and exploitation. Both are necessary, but \n"
     ]
    }
   ],
   "source": [
    "print(len(texts))\n",
    "print(texts[0][:250])"
   ]
  },
  {
   "cell_type": "code",
   "execution_count": 271,
   "metadata": {
    "collapsed": true
   },
   "outputs": [],
   "source": [
    "def keywordsToLabel(keywords):\n",
    "    label = ['o','o','o']\n",
    "    keywords_lower = [k.strip().lower() for k in keywords.split(',')]\n",
    "    \n",
    "    if 'technology' in keywords_lower:\n",
    "        label[0] = 'T'\n",
    "    if 'entertainment' in keywords_lower:\n",
    "        label[1] = 'E'\n",
    "    if 'design' in keywords_lower:\n",
    "        label[2] = 'D'\n",
    "    \n",
    "    return \"\".join(label)\n",
    "\n",
    "def labelToBinary(label):\n",
    "    binary_encoding = [0, 0, 0]\n",
    "    binary_encoding[0] = 1 if label[0] == 'T' else 0\n",
    "    binary_encoding[1] = 1 if label[1] == 'E' else 0\n",
    "    binary_encoding[2] = 1 if label[2] == 'D' else 0\n",
    "    return binary_encoding\n",
    "\n",
    "def labelToOneHot(label):\n",
    "    lookup = {\n",
    "        \"ooo\": np.array([1,0,0,0,0,0,0,0]),\n",
    "        \"Too\": np.array([0,1,0,0,0,0,0,0]),\n",
    "        \"oEo\": np.array([0,0,1,0,0,0,0,0]),\n",
    "        \"ooD\": np.array([0,0,0,1,0,0,0,0]),\n",
    "        \"TEo\": np.array([0,0,0,0,1,0,0,0]),\n",
    "        \"ToD\": np.array([0,0,0,0,0,1,0,0]),\n",
    "        \"oED\": np.array([0,0,0,0,0,0,1,0]),\n",
    "        \"TED\": np.array([0,0,0,0,0,0,0,1])\n",
    "    }\n",
    "    \n",
    "    return lookup[label]\n",
    "\n",
    "def oneHotToLabel(oneHot):\n",
    "    return np.argmax(oneHot)"
   ]
  },
  {
   "cell_type": "code",
   "execution_count": 172,
   "metadata": {
    "collapsed": false
   },
   "outputs": [],
   "source": [
    "labels = [keywordsToLabel(k) for k in keywords]"
   ]
  },
  {
   "cell_type": "code",
   "execution_count": 173,
   "metadata": {
    "collapsed": false
   },
   "outputs": [
    {
     "name": "stdout",
     "output_type": "stream",
     "text": [
      "Counter({'ooo': 1134, 'Too': 389, 'oEo': 173, 'ooD': 158, 'ToD': 137, 'TEo': 37, 'TED': 33, 'oED': 24})\n"
     ]
    }
   ],
   "source": [
    "# Stats about labels\n",
    "from collections import Counter\n",
    "\n",
    "label_counter = Counter(labels)\n",
    "print(label_counter)"
   ]
  },
  {
   "cell_type": "markdown",
   "metadata": {},
   "source": [
    "### Read Embeddings"
   ]
  },
  {
   "cell_type": "code",
   "execution_count": 174,
   "metadata": {
    "collapsed": false
   },
   "outputs": [],
   "source": [
    "with zipfile.ZipFile('../../glove.6B.zip', 'r') as z:\n",
    "    embeddings = z.open('glove.6B.50d.txt', 'r').readlines()\n",
    "  \n"
   ]
  },
  {
   "cell_type": "code",
   "execution_count": 175,
   "metadata": {
    "collapsed": false
   },
   "outputs": [],
   "source": [
    "embedding_dict = {token[0]: np.array(token[1:], dtype='f')\n",
    "                  for token in [line.decode(\"utf-8\").split()\n",
    "                  for line in embeddings] }"
   ]
  },
  {
   "cell_type": "code",
   "execution_count": 176,
   "metadata": {
    "collapsed": false
   },
   "outputs": [
    {
     "data": {
      "text/plain": [
       "0.88603377"
      ]
     },
     "execution_count": 176,
     "metadata": {},
     "output_type": "execute_result"
    }
   ],
   "source": [
    "def similarity(a, b):\n",
    "    x = embedding_dict[a]\n",
    "    y = embedding_dict[b]\n",
    "    \n",
    "    return np.dot(x,y) / (np.linalg.norm(x) * np.linalg.norm(y))\n",
    "\n",
    "similarity('man', 'woman')"
   ]
  },
  {
   "cell_type": "code",
   "execution_count": 177,
   "metadata": {
    "collapsed": false
   },
   "outputs": [],
   "source": [
    "def bag_of_means(words, embedding_dict):\n",
    "    acc = np.zeros(50)\n",
    "    count = 0\n",
    "    for word in words:\n",
    "        if not word in embedding_dict:\n",
    "            continue\n",
    "        acc = acc + embedding_dict[word]\n",
    "        count += 1\n",
    "    return acc / count"
   ]
  },
  {
   "cell_type": "markdown",
   "metadata": {
    "collapsed": false
   },
   "source": [
    "### Prepare the Data"
   ]
  },
  {
   "cell_type": "code",
   "execution_count": 234,
   "metadata": {
    "collapsed": false
   },
   "outputs": [],
   "source": [
    "X = np.array([bag_of_means(words,embedding_dict) for words in keywords])\n",
    "Y = np.array([labelToOneHot(label) for label in labels])\n",
    "\n",
    "\n",
    "# Shuffle the data\n",
    "# np.random.seed(0)\n",
    "shuffle = np.random.permutation(X.shape[0])\n",
    "X = X[shuffle]\n",
    "Y = Y[shuffle]\n",
    "\n",
    "# Split in Training, Cross-Val, and Test Set\n",
    "n_train = 1585\n",
    "n_val = 250\n",
    "n_test = 250\n",
    "\n",
    "X_train = X[:n_train]\n",
    "X_val = X[n_train:n_train + n_val]\n",
    "X_test = X[n_train + n_val:]\n",
    "\n",
    "Y_train = Y[:n_train]\n",
    "Y_train_labels = [oneHotToLabel(oneHot) for oneHot in Y_train]\n",
    "Y_val = Y[n_train:n_train + n_val]\n",
    "Y_test = Y[n_train + n_val:] \n",
    "Y_test_labels = [oneHotToLabel(oneHot) for oneHot in Y_test]"
   ]
  },
  {
   "cell_type": "markdown",
   "metadata": {},
   "source": [
    "### Define Model"
   ]
  },
  {
   "cell_type": "code",
   "execution_count": 222,
   "metadata": {
    "collapsed": true
   },
   "outputs": [],
   "source": [
    "import tensorflow as tf\n",
    "\n",
    "class TEDClassifier:\n",
    "    def __init__(self, num_classes, embedding_size, batch_size):\n",
    "        self.num_classes = num_classes\n",
    "        self.embedding_size = embedding_size\n",
    "        self.batch_size = batch_size\n",
    "        \n",
    "        # Placeholders\n",
    "        self.input_x = tf.placeholder(tf.float32, [None, self.embedding_size], name='input_x')\n",
    "        self.input_y = tf.placeholder(tf.float32, [None, self.num_classes], name='input_y')\n",
    "\n",
    "        # Hidden Layer\n",
    "        self.W = tf.Variable(tf.zeros([self.embedding_size, self.embedding_size]), name='W')\n",
    "        self.b = tf.Variable(tf.zeros([self.embedding_size]), name='b')\n",
    "        \n",
    "        self.h = tf.tanh(tf.matmul(self.input_x, self.W) + self.b)\n",
    "        \n",
    "        # Output Layer\n",
    "        self.V = tf.Variable(tf.zeros([self.embedding_size, self.num_classes]), name='V')\n",
    "        self.c = tf.Variable(tf.zeros([self.num_classes]), name='c')\n",
    "        self.y = tf.matmul(self.h, self.V) + self.c\n",
    "        \n",
    "        # Loss function\n",
    "        self.cross_entropy = tf.reduce_mean(tf.nn.softmax_cross_entropy_with_logits(self.y, self.input_y))\n",
    "\n",
    "        # Tensorflow session\n",
    "        self.sess = tf.Session()\n",
    "    \n",
    "    def fit(self, X, Y):\n",
    "        # Initialise variables\n",
    "        init = tf.global_variables_initializer()\n",
    "        self.sess.run(init)\n",
    "\n",
    "        n = X.shape[0] # number of datapoints\n",
    "\n",
    "        train_step = tf.train.AdamOptimizer(1e-4).minimize(self.cross_entropy)\n",
    "        correct_prediction = tf.equal(tf.argmax(self.y,1), tf.argmax(self.input_y,1))\n",
    "        accuracy = tf.reduce_mean(tf.cast(correct_prediction, tf.float32))\n",
    "        self.sess.run(tf.global_variables_initializer())\n",
    "\n",
    "\n",
    "        i = 0\n",
    "        while i < n:\n",
    "            j = min(i + self.batch_size, n)\n",
    "            batch = (X[i:j], Y[i:j])\n",
    "\n",
    "            if i%300 == 0:\n",
    "                train_accuracy = accuracy.eval(session=self.sess, feed_dict={\n",
    "                    self.input_x:batch[0], self.input_y: batch[1]})\n",
    "                # print(\"step %d, training accuracy %g\"%(i, train_accuracy))\n",
    "            train_step.run(session=self.sess, feed_dict={self.input_x: batch[0], self.input_y: batch[1]})\n",
    "\n",
    "            # Next batch\n",
    "            i = j\n",
    "\n",
    "    \n",
    "    def predict(self, X):\n",
    "        y = self.y.eval(session=self.sess, feed_dict={self.input_x:X})        \n",
    "        classification = tf.argmax(tf.nn.softmax(y), 1)\n",
    "\n",
    "        return self.sess.run(classification)\n"
   ]
  },
  {
   "cell_type": "markdown",
   "metadata": {},
   "source": [
    "### Train the Model"
   ]
  },
  {
   "cell_type": "code",
   "execution_count": 268,
   "metadata": {
    "collapsed": false
   },
   "outputs": [],
   "source": [
    "NUM_CLASSES = 8\n",
    "EMBEDDING_SIZE = 50\n",
    "BATCH_SIZE = 50\n",
    "\n",
    "cls = TEDClassifier(NUM_CLASSES, EMBEDDING_SIZE, BATCH_SIZE)\n",
    "cls.fit(X_train,Y_train)\n"
   ]
  },
  {
   "cell_type": "markdown",
   "metadata": {},
   "source": [
    "### Prediction on entire Test Set"
   ]
  },
  {
   "cell_type": "code",
   "execution_count": 212,
   "metadata": {
    "collapsed": false
   },
   "outputs": [
    {
     "name": "stdout",
     "output_type": "stream",
     "text": [
      "0.484\n"
     ]
    }
   ],
   "source": [
    "# Run Prediction on Test set\n",
    "prediction = cls.predict(X_test)\n",
    "\n",
    "# Compute error\n",
    "num_correctly_classified = np.sum(prediction == Y_test_labels)\n",
    "\n",
    "accuracy_test = num_correctly_classified / n_test\n",
    "print(accuracy_test)"
   ]
  },
  {
   "cell_type": "markdown",
   "metadata": {
    "collapsed": true
   },
   "source": [
    "### Learning Curve"
   ]
  },
  {
   "cell_type": "code",
   "execution_count": 264,
   "metadata": {
    "collapsed": false
   },
   "outputs": [
    {
     "name": "stdout",
     "output_type": "stream",
     "text": [
      "Train model using 10% of the training set.\t ✓\n",
      "\tAccuracy (Train): 0.5316455696202531%.\n",
      "\tAccuracy (Test): 0.544%.\n",
      "Train model using 20% of the training set.\t ✓\n",
      "\tAccuracy (Train): 0.5299684542586751%.\n",
      "\tAccuracy (Test): 0.544%.\n",
      "Train model using 30% of the training set.\t ✓\n",
      "\tAccuracy (Train): 0.19157894736842104%.\n",
      "\tAccuracy (Test): 0.22%.\n",
      "Train model using 40% of the training set.\t ✓\n",
      "\tAccuracy (Train): 0.19085173501577288%.\n",
      "\tAccuracy (Test): 0.22%.\n",
      "Train model using 50% of the training set.\t ✓\n",
      "\tAccuracy (Train): 0.5340909090909091%.\n",
      "\tAccuracy (Test): 0.544%.\n",
      "Train model using 60% of the training set.\t ✓\n",
      "\tAccuracy (Train): 0.5436382754994742%.\n",
      "\tAccuracy (Test): 0.544%.\n",
      "Train model using 70% of the training set.\t ✓\n",
      "\tAccuracy (Train): 0.5500450856627592%.\n",
      "\tAccuracy (Test): 0.544%.\n",
      "Train model using 80% of the training set.\t ✓\n",
      "\tAccuracy (Train): 0.5481072555205048%.\n",
      "\tAccuracy (Test): 0.544%.\n",
      "Train model using 90% of the training set.\t ✓\n",
      "\tAccuracy (Train): 0.5483870967741935%.\n",
      "\tAccuracy (Test): 0.544%.\n",
      "Train model using 100% of the training set.\t ✓\n",
      "\tAccuracy (Train): 0.5470031545741325%.\n",
      "\tAccuracy (Test): 0.544%.\n"
     ]
    }
   ],
   "source": [
    "accuracies_train = []\n",
    "accuracies_test = []\n",
    "\n",
    "step = 10 # Step size in percent\n",
    "\n",
    "for i in range(100 // step):\n",
    "    # Use only a subset n <= N_train of the training data (10%, 20%, ...,100%)\n",
    "    p = (i+1) * step\n",
    "    n_train_subset = int((p / 100) * n_train)\n",
    "    \n",
    "    X_train_subset = X_train[:n_train_subset]\n",
    "    Y_train_subset = Y_train[:n_train_subset]\n",
    "    \n",
    "    Y_train_subset_labels = Y_train_labels[:n_train_subset]\n",
    "    \n",
    "    # Initialise new classifier \n",
    "    cls = TEDClassifier(NUM_CLASSES, EMBEDDING_SIZE, BATCH_SIZE)\n",
    "    \n",
    "    # Train on X_subset as training data\n",
    "    print('Train model using {}% of the training set.'.format(p), end='')\n",
    "    cls.fit(X_train_subset, Y_train_subset)\n",
    "    print(u'\\t ✓')\n",
    "    \n",
    "    # Compute accuracies on test and train set\n",
    "    pred_train = cls.predict(X_train_subset) \n",
    "    accuracy_train = np.sum(pred_train == Y_train_subset_labels) / n_train_subset\n",
    "    print('\\tAccuracy (Train): {}%'.format(accuracy_train))\n",
    "    accuracies_train.append(accuracy_train)\n",
    "    \n",
    "    pred_test = cls.predict(X_test) \n",
    "    accuracy_test = np.sum(pred_test == Y_test_labels) / n_test\n",
    "    print('\\tAccuracy (Test): {}%'.format(accuracy_test))\n",
    "    accuracies_test.append(accuracy_test)\n",
    "    \n",
    "    \n",
    "    "
   ]
  },
  {
   "cell_type": "code",
   "execution_count": 270,
   "metadata": {
    "collapsed": false
   },
   "outputs": [
    {
     "data": {
      "image/png": "[encoded data removed]",
      "text/plain": [
       "<matplotlib.figure.Figure at 0x13e8abd30>"
      ]
     },
     "metadata": {},
     "output_type": "display_data"
    }
   ],
   "source": [
    "# Plot Learning curve\n",
    "import matplotlib.pyplot as plt\n",
    "steps = list(range(step, 100 + step, step))\n",
    "\n",
    "plt.plot(steps, accuracies_train, label='Train')\n",
    "plt.plot(steps, accuracies_test, label='Test')\n",
    "plt.legend()\n",
    "plt.show()"
   ]
  },
  {
   "cell_type": "code",
   "execution_count": null,
   "metadata": {
    "collapsed": true
   },
   "outputs": [],
   "source": []
  }
 ],
 "metadata": {
  "kernelspec": {
   "display_name": "Python 3",
   "language": "python",
   "name": "python3"
  },
  "language_info": {
   "codemirror_mode": {
    "name": "ipython",
    "version": 3
   },
   "file_extension": ".py",
   "mimetype": "text/x-python",
   "name": "python",
   "nbconvert_exporter": "python",
   "pygments_lexer": "ipython3",
   "version": "3.5.0"
  }
 },
 "nbformat": 4,
 "nbformat_minor": 2
}
