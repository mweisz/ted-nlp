{
 "cells": [
  {
   "cell_type": "markdown",
   "metadata": {},
   "source": [
    "# TED - Classification"
   ]
  },
  {
   "cell_type": "code",
   "execution_count": 1,
   "metadata": {
    "collapsed": false
   },
   "outputs": [
    {
     "data": {
      "text/html": [
       "\n",
       "    <div class=\"bk-root\">\n",
       "        <a href=\"http://bokeh.pydata.org\" target=\"_blank\" class=\"bk-logo bk-logo-small bk-logo-notebook\"></a>\n",
       "        <span id=\"47dcdc05-7479-4d64-be3c-38c6170d7376\">Loading BokehJS ...</span>\n",
       "    </div>"
      ]
     },
     "metadata": {},
     "output_type": "display_data"
    },
    {
     "data": {
      "application/javascript": [
       "\n",
       "(function(global) {\n",
       "  function now() {\n",
       "    return new Date();\n",
       "  }\n",
       "\n",
       "  var force = true;\n",
       "\n",
       "  if (typeof (window._bokeh_onload_callbacks) === \"undefined\" || force === true) {\n",
       "    window._bokeh_onload_callbacks = [];\n",
       "    window._bokeh_is_loading = undefined;\n",
       "  }\n",
       "\n",
       "\n",
       "  \n",
       "  if (typeof (window._bokeh_timeout) === \"undefined\" || force === true) {\n",
       "    window._bokeh_timeout = Date.now() + 5000;\n",
       "    window._bokeh_failed_load = false;\n",
       "  }\n",
       "\n",
       "  var NB_LOAD_WARNING = {'data': {'text/html':\n",
       "     \"<div style='background-color: #fdd'>\\n\"+\n",
       "     \"<p>\\n\"+\n",
       "     \"BokehJS does not appear to have successfully loaded. If loading BokehJS from CDN, this \\n\"+\n",
       "     \"may be due to a slow or bad network connection. Possible fixes:\\n\"+\n",
       "     \"</p>\\n\"+\n",
       "     \"<ul>\\n\"+\n",
       "     \"<li>re-rerun `output_notebook()` to attempt to load from CDN again, or</li>\\n\"+\n",
       "     \"<li>use INLINE resources instead, as so:</li>\\n\"+\n",
       "     \"</ul>\\n\"+\n",
       "     \"<code>\\n\"+\n",
       "     \"from bokeh.resources import INLINE\\n\"+\n",
       "     \"output_notebook(resources=INLINE)\\n\"+\n",
       "     \"</code>\\n\"+\n",
       "     \"</div>\"}};\n",
       "\n",
       "  function display_loaded() {\n",
       "    if (window.Bokeh !== undefined) {\n",
       "      document.getElementById(\"47dcdc05-7479-4d64-be3c-38c6170d7376\").textContent = \"BokehJS successfully loaded.\";\n",
       "    } else if (Date.now() < window._bokeh_timeout) {\n",
       "      setTimeout(display_loaded, 100)\n",
       "    }\n",
       "  }\n",
       "\n",
       "  function run_callbacks() {\n",
       "    window._bokeh_onload_callbacks.forEach(function(callback) { callback() });\n",
       "    delete window._bokeh_onload_callbacks\n",
       "    console.info(\"Bokeh: all callbacks have finished\");\n",
       "  }\n",
       "\n",
       "  function load_libs(js_urls, callback) {\n",
       "    window._bokeh_onload_callbacks.push(callback);\n",
       "    if (window._bokeh_is_loading > 0) {\n",
       "      console.log(\"Bokeh: BokehJS is being loaded, scheduling callback at\", now());\n",
       "      return null;\n",
       "    }\n",
       "    if (js_urls == null || js_urls.length === 0) {\n",
       "      run_callbacks();\n",
       "      return null;\n",
       "    }\n",
       "    console.log(\"Bokeh: BokehJS not loaded, scheduling load and callback at\", now());\n",
       "    window._bokeh_is_loading = js_urls.length;\n",
       "    for (var i = 0; i < js_urls.length; i++) {\n",
       "      var url = js_urls[i];\n",
       "      var s = document.createElement('script');\n",
       "      s.src = url;\n",
       "      s.async = false;\n",
       "      s.onreadystatechange = s.onload = function() {\n",
       "        window._bokeh_is_loading--;\n",
       "        if (window._bokeh_is_loading === 0) {\n",
       "          console.log(\"Bokeh: all BokehJS libraries loaded\");\n",
       "          run_callbacks()\n",
       "        }\n",
       "      };\n",
       "      s.onerror = function() {\n",
       "        console.warn(\"failed to load library \" + url);\n",
       "      };\n",
       "      console.log(\"Bokeh: injecting script tag for BokehJS library: \", url);\n",
       "      document.getElementsByTagName(\"head\")[0].appendChild(s);\n",
       "    }\n",
       "  };var element = document.getElementById(\"47dcdc05-7479-4d64-be3c-38c6170d7376\");\n",
       "  if (element == null) {\n",
       "    console.log(\"Bokeh: ERROR: autoload.js configured with elementid '47dcdc05-7479-4d64-be3c-38c6170d7376' but no matching script tag was found. \")\n",
       "    return false;\n",
       "  }\n",
       "\n",
       "  var js_urls = [\"https://cdn.pydata.org/bokeh/release/bokeh-0.12.4.min.js\", \"https://cdn.pydata.org/bokeh/release/bokeh-widgets-0.12.4.min.js\"];\n",
       "\n",
       "  var inline_js = [\n",
       "    function(Bokeh) {\n",
       "      Bokeh.set_log_level(\"info\");\n",
       "    },\n",
       "    \n",
       "    function(Bokeh) {\n",
       "      \n",
       "      document.getElementById(\"47dcdc05-7479-4d64-be3c-38c6170d7376\").textContent = \"BokehJS is loading...\";\n",
       "    },\n",
       "    function(Bokeh) {\n",
       "      console.log(\"Bokeh: injecting CSS: https://cdn.pydata.org/bokeh/release/bokeh-0.12.4.min.css\");\n",
       "      Bokeh.embed.inject_css(\"https://cdn.pydata.org/bokeh/release/bokeh-0.12.4.min.css\");\n",
       "      console.log(\"Bokeh: injecting CSS: https://cdn.pydata.org/bokeh/release/bokeh-widgets-0.12.4.min.css\");\n",
       "      Bokeh.embed.inject_css(\"https://cdn.pydata.org/bokeh/release/bokeh-widgets-0.12.4.min.css\");\n",
       "    }\n",
       "  ];\n",
       "\n",
       "  function run_inline_js() {\n",
       "    \n",
       "    if ((window.Bokeh !== undefined) || (force === true)) {\n",
       "      for (var i = 0; i < inline_js.length; i++) {\n",
       "        inline_js[i](window.Bokeh);\n",
       "      }if (force === true) {\n",
       "        display_loaded();\n",
       "      }} else if (Date.now() < window._bokeh_timeout) {\n",
       "      setTimeout(run_inline_js, 100);\n",
       "    } else if (!window._bokeh_failed_load) {\n",
       "      console.log(\"Bokeh: BokehJS failed to load within specified timeout.\");\n",
       "      window._bokeh_failed_load = true;\n",
       "    } else if (force !== true) {\n",
       "      var cell = $(document.getElementById(\"47dcdc05-7479-4d64-be3c-38c6170d7376\")).parents('.cell').data().cell;\n",
       "      cell.output_area.append_execute_result(NB_LOAD_WARNING)\n",
       "    }\n",
       "\n",
       "  }\n",
       "\n",
       "  if (window._bokeh_is_loading === 0) {\n",
       "    console.log(\"Bokeh: BokehJS loaded, going straight to plotting\");\n",
       "    run_inline_js();\n",
       "  } else {\n",
       "    load_libs(js_urls, function() {\n",
       "      console.log(\"Bokeh: BokehJS plotting callback run at\", now());\n",
       "      run_inline_js();\n",
       "    });\n",
       "  }\n",
       "}(this));"
      ]
     },
     "metadata": {},
     "output_type": "display_data"
    }
   ],
   "source": [
    "import urllib.request\n",
    "import zipfile\n",
    "import lxml.etree\n",
    "\n",
    "import numpy as np\n",
    "import os\n",
    "from random import shuffle\n",
    "import re\n",
    "\n",
    "from bokeh.models import ColumnDataSource, LabelSet\n",
    "from bokeh.plotting import figure, show, output_file\n",
    "from bokeh.io import output_notebook\n",
    "import matplotlib.pyplot as plt\n",
    "output_notebook()"
   ]
  },
  {
   "cell_type": "markdown",
   "metadata": {},
   "source": [
    "### Pre-Processing"
   ]
  },
  {
   "cell_type": "code",
   "execution_count": 2,
   "metadata": {
    "collapsed": false
   },
   "outputs": [],
   "source": [
    "# Download the dataset if it's not already there: this may take a minute as it is 75MB\n",
    "if not os.path.isfile('ted_en-20160408.zip'):\n",
    "    urllib.request.urlretrieve(\"https://wit3.fbk.eu/get.php?path=XML_releases/xml/ted_en-20160408.zip&filename=ted_en-20160408.zip\", filename=\"ted_en-20160408.zip\")"
   ]
  },
  {
   "cell_type": "code",
   "execution_count": 3,
   "metadata": {
    "collapsed": true
   },
   "outputs": [],
   "source": [
    "# For now, we're only interested in the subtitle text, so let's extract that from the XML:\n",
    "with zipfile.ZipFile('ted_en-20160408.zip', 'r') as z:\n",
    "    doc = lxml.etree.parse(z.open('ted_en-20160408.xml', 'r'))\n",
    "texts = doc.xpath('//content/text()')\n",
    "keywords = doc.xpath('//keywords/text()')\n",
    "del doc"
   ]
  },
  {
   "cell_type": "code",
   "execution_count": 4,
   "metadata": {
    "collapsed": false
   },
   "outputs": [
    {
     "name": "stdout",
     "output_type": "stream",
     "text": [
      "2085\n",
      "Here are two reasons companies fail: they only do more of the same, or they only do what's new.\n",
      "To me the real, real solution to quality growth is figuring out the balance between two activities: exploration and exploitation. Both are necessary, but \n"
     ]
    }
   ],
   "source": [
    "print(len(texts))\n",
    "print(texts[0][:250])"
   ]
  },
  {
   "cell_type": "code",
   "execution_count": 31,
   "metadata": {
    "collapsed": true
   },
   "outputs": [],
   "source": [
    "def keywordsToLabel(keywords):\n",
    "    label = ['o','o','o']\n",
    "    keywords_lower = [k.strip().lower() for k in keywords.split(',')]\n",
    "    \n",
    "    if 'technology' in keywords_lower:\n",
    "        label[0] = 'T'\n",
    "    if 'entertainment' in keywords_lower:\n",
    "        label[1] = 'E'\n",
    "    if 'design' in keywords_lower:\n",
    "        label[2] = 'D'\n",
    "    \n",
    "    return \"\".join(label)\n",
    "\n",
    "def labelToBinary(label):\n",
    "    binary_encoding = [0, 0, 0]\n",
    "    binary_encoding[0] = 1 if label[0] == 'T' else 0\n",
    "    binary_encoding[1] = 1 if label[1] == 'E' else 0\n",
    "    binary_encoding[2] = 1 if label[2] == 'D' else 0\n",
    "    return binary_encoding\n",
    "\n",
    "def labelToOneHot(label):\n",
    "    lookup = {\n",
    "        \"ooo\": np.array([1,0,0,0,0,0,0,0]),\n",
    "        \"Too\": np.array([0,1,0,0,0,0,0,0]),\n",
    "        \"oEo\": np.array([0,0,1,0,0,0,0,0]),\n",
    "        \"ooD\": np.array([0,0,0,1,0,0,0,0]),\n",
    "        \"TEo\": np.array([0,0,0,0,1,0,0,0]),\n",
    "        \"ToD\": np.array([0,0,0,0,0,1,0,0]),\n",
    "        \"oED\": np.array([0,0,0,0,0,0,1,0]),\n",
    "        \"TED\": np.array([0,0,0,0,0,0,0,1])\n",
    "    }\n",
    "    \n",
    "    return lookup[label]\n",
    "\n",
    "def labelToColor(label):\n",
    "    lookup = {\n",
    "        0: 'gray',\n",
    "        1: 'red',\n",
    "        2: 'green',\n",
    "        3: 'yellow',\n",
    "        4: 'blue',\n",
    "        5: 'orange',\n",
    "        6: 'black',\n",
    "        7: 'pink'\n",
    "    }\n",
    "    return lookup[label]\n",
    "\n",
    "def oneHotToLabel(oneHot):\n",
    "    return np.argmax(oneHot)"
   ]
  },
  {
   "cell_type": "code",
   "execution_count": 6,
   "metadata": {
    "collapsed": false
   },
   "outputs": [],
   "source": [
    "labels = [keywordsToLabel(k) for k in keywords]"
   ]
  },
  {
   "cell_type": "code",
   "execution_count": 7,
   "metadata": {
    "collapsed": false
   },
   "outputs": [
    {
     "name": "stdout",
     "output_type": "stream",
     "text": [
      "Counter({'ooo': 1134, 'Too': 389, 'oEo': 173, 'ooD': 158, 'ToD': 137, 'TEo': 37, 'TED': 33, 'oED': 24})\n"
     ]
    }
   ],
   "source": [
    "# Stats about labels\n",
    "from collections import Counter\n",
    "\n",
    "label_counter = Counter(labels)\n",
    "print(label_counter)"
   ]
  },
  {
   "cell_type": "markdown",
   "metadata": {},
   "source": [
    "### Read Embeddings"
   ]
  },
  {
   "cell_type": "code",
   "execution_count": 8,
   "metadata": {
    "collapsed": false
   },
   "outputs": [],
   "source": [
    "with zipfile.ZipFile('../../glove.6B.zip', 'r') as z:\n",
    "    embeddings = z.open('glove.6B.50d.txt', 'r').readlines()\n",
    "  \n"
   ]
  },
  {
   "cell_type": "code",
   "execution_count": 9,
   "metadata": {
    "collapsed": false
   },
   "outputs": [],
   "source": [
    "embedding_dict = {token[0]: np.array(token[1:], dtype='f')\n",
    "                  for token in [line.decode(\"utf-8\").split()\n",
    "                  for line in embeddings] }"
   ]
  },
  {
   "cell_type": "code",
   "execution_count": 10,
   "metadata": {
    "collapsed": false
   },
   "outputs": [
    {
     "data": {
      "text/plain": [
       "0.88603377"
      ]
     },
     "execution_count": 10,
     "metadata": {},
     "output_type": "execute_result"
    }
   ],
   "source": [
    "def similarity(a, b):\n",
    "    x = embedding_dict[a]\n",
    "    y = embedding_dict[b]\n",
    "    \n",
    "    return np.dot(x,y) / (np.linalg.norm(x) * np.linalg.norm(y))\n",
    "\n",
    "similarity('man', 'woman')"
   ]
  },
  {
   "cell_type": "code",
   "execution_count": 11,
   "metadata": {
    "collapsed": false
   },
   "outputs": [],
   "source": [
    "def bag_of_means(words, embedding_dict):\n",
    "    acc = np.zeros(50)\n",
    "    count = 0\n",
    "    for word in words:\n",
    "        if not word in embedding_dict:\n",
    "            continue\n",
    "        acc = acc + embedding_dict[word]\n",
    "        count += 1\n",
    "    return acc / count"
   ]
  },
  {
   "cell_type": "markdown",
   "metadata": {
    "collapsed": false
   },
   "source": [
    "### Prepare the Data"
   ]
  },
  {
   "cell_type": "code",
   "execution_count": 12,
   "metadata": {
    "collapsed": false
   },
   "outputs": [],
   "source": [
    "X = np.array([bag_of_means(words,embedding_dict) for words in keywords])\n",
    "Y = np.array([labelToOneHot(label) for label in labels])\n",
    "\n",
    "\n",
    "# Shuffle the data\n",
    "# np.random.seed(0)\n",
    "shuffle = np.random.permutation(X.shape[0])\n",
    "X = X[shuffle]\n",
    "Y = Y[shuffle]\n",
    "\n",
    "# Split in Training, Cross-Val, and Test Set\n",
    "n_train = 1585\n",
    "n_val = 250\n",
    "n_test = 250\n",
    "\n",
    "X_train = X[:n_train]\n",
    "X_val = X[n_train:n_train + n_val]\n",
    "X_test = X[n_train + n_val:]\n",
    "\n",
    "Y_train = Y[:n_train]\n",
    "Y_train_labels = [oneHotToLabel(oneHot) for oneHot in Y_train]\n",
    "Y_val = Y[n_train:n_train + n_val]\n",
    "Y_test = Y[n_train + n_val:] \n",
    "Y_test_labels = [oneHotToLabel(oneHot) for oneHot in Y_test]"
   ]
  },
  {
   "cell_type": "markdown",
   "metadata": {},
   "source": [
    "### Plot Document Representations using t-SNE"
   ]
  },
  {
   "cell_type": "code",
   "execution_count": 32,
   "metadata": {
    "collapsed": false
   },
   "outputs": [],
   "source": [
    "from sklearn.manifold import TSNE\n",
    "tsne = TSNE(n_components=2, random_state=0)\n",
    "texts_tsne = tsne.fit_transform(X_train)\n",
    "\n",
    "label_color = [labelToColor(oneHotToLabel(x)) for x in Y_train]"
   ]
  },
  {
   "cell_type": "code",
   "execution_count": 37,
   "metadata": {
    "collapsed": false
   },
   "outputs": [
    {
     "data": {
      "text/html": [
       "\n",
       "\n",
       "    <div class=\"bk-root\">\n",
       "        <div class=\"bk-plotdiv\" id=\"8d766c0d-b46c-4ef5-8877-e8857e247360\"></div>\n",
       "    </div>\n",
       "<script type=\"text/javascript\">\n",
       "  \n",
       "  (function(global) {\n",
       "    function now() {\n",
       "      return new Date();\n",
       "    }\n",
       "  \n",
       "    var force = false;\n",
       "  \n",
       "    if (typeof (window._bokeh_onload_callbacks) === \"undefined\" || force === true) {\n",
       "      window._bokeh_onload_callbacks = [];\n",
       "      window._bokeh_is_loading = undefined;\n",
       "    }\n",
       "  \n",
       "  \n",
       "    \n",
       "    if (typeof (window._bokeh_timeout) === \"undefined\" || force === true) {\n",
       "      window._bokeh_timeout = Date.now() + 0;\n",
       "      window._bokeh_failed_load = false;\n",
       "    }\n",
       "  \n",
       "    var NB_LOAD_WARNING = {'data': {'text/html':\n",
       "       \"<div style='background-color: #fdd'>\\n\"+\n",
       "       \"<p>\\n\"+\n",
       "       \"BokehJS does not appear to have successfully loaded. If loading BokehJS from CDN, this \\n\"+\n",
       "       \"may be due to a slow or bad network connection. Possible fixes:\\n\"+\n",
       "       \"</p>\\n\"+\n",
       "       \"<ul>\\n\"+\n",
       "       \"<li>re-rerun `output_notebook()` to attempt to load from CDN again, or</li>\\n\"+\n",
       "       \"<li>use INLINE resources instead, as so:</li>\\n\"+\n",
       "       \"</ul>\\n\"+\n",
       "       \"<code>\\n\"+\n",
       "       \"from bokeh.resources import INLINE\\n\"+\n",
       "       \"output_notebook(resources=INLINE)\\n\"+\n",
       "       \"</code>\\n\"+\n",
       "       \"</div>\"}};\n",
       "  \n",
       "    function display_loaded() {\n",
       "      if (window.Bokeh !== undefined) {\n",
       "        document.getElementById(\"8d766c0d-b46c-4ef5-8877-e8857e247360\").textContent = \"BokehJS successfully loaded.\";\n",
       "      } else if (Date.now() < window._bokeh_timeout) {\n",
       "        setTimeout(display_loaded, 100)\n",
       "      }\n",
       "    }\n",
       "  \n",
       "    function run_callbacks() {\n",
       "      window._bokeh_onload_callbacks.forEach(function(callback) { callback() });\n",
       "      delete window._bokeh_onload_callbacks\n",
       "      console.info(\"Bokeh: all callbacks have finished\");\n",
       "    }\n",
       "  \n",
       "    function load_libs(js_urls, callback) {\n",
       "      window._bokeh_onload_callbacks.push(callback);\n",
       "      if (window._bokeh_is_loading > 0) {\n",
       "        console.log(\"Bokeh: BokehJS is being loaded, scheduling callback at\", now());\n",
       "        return null;\n",
       "      }\n",
       "      if (js_urls == null || js_urls.length === 0) {\n",
       "        run_callbacks();\n",
       "        return null;\n",
       "      }\n",
       "      console.log(\"Bokeh: BokehJS not loaded, scheduling load and callback at\", now());\n",
       "      window._bokeh_is_loading = js_urls.length;\n",
       "      for (var i = 0; i < js_urls.length; i++) {\n",
       "        var url = js_urls[i];\n",
       "        var s = document.createElement('script');\n",
       "        s.src = url;\n",
       "        s.async = false;\n",
       "        s.onreadystatechange = s.onload = function() {\n",
       "          window._bokeh_is_loading--;\n",
       "          if (window._bokeh_is_loading === 0) {\n",
       "            console.log(\"Bokeh: all BokehJS libraries loaded\");\n",
       "            run_callbacks()\n",
       "          }\n",
       "        };\n",
       "        s.onerror = function() {\n",
       "          console.warn(\"failed to load library \" + url);\n",
       "        };\n",
       "        console.log(\"Bokeh: injecting script tag for BokehJS library: \", url);\n",
       "        document.getElementsByTagName(\"head\")[0].appendChild(s);\n",
       "      }\n",
       "    };var element = document.getElementById(\"8d766c0d-b46c-4ef5-8877-e8857e247360\");\n",
       "    if (element == null) {\n",
       "      console.log(\"Bokeh: ERROR: autoload.js configured with elementid '8d766c0d-b46c-4ef5-8877-e8857e247360' but no matching script tag was found. \")\n",
       "      return false;\n",
       "    }\n",
       "  \n",
       "    var js_urls = [];\n",
       "  \n",
       "    var inline_js = [\n",
       "      function(Bokeh) {\n",
       "        (function() {\n",
       "          var fn = function() {\n",
       "            var docs_json = {\"92c629f5-c166-4c89-b601-9f71a23ae437\":{\"roots\":{\"references\":[{\"attributes\":{\"formatter\":{\"id\":\"61248f08-29cd-4fa4-b0b5-d92efe621865\",\"type\":\"BasicTickFormatter\"},\"plot\":{\"id\":\"77b04ccc-f1f3-4ae2-91cf-ecefa75bdf67\",\"subtype\":\"Figure\",\"type\":\"Plot\"},\"ticker\":{\"id\":\"e922bfb1-ad4c-45f7-be71-2b924cc1390b\",\"type\":\"BasicTicker\"}},\"id\":\"325df1d3-cf90-473d-a984-088a9a815c36\",\"type\":\"LinearAxis\"},{\"attributes\":{\"callback\":null},\"id\":\"094c39c6-c20b-4512-8a53-30c2541555e2\",\"type\":\"DataRange1d\"},{\"attributes\":{\"plot\":{\"id\":\"77b04ccc-f1f3-4ae2-91cf-ecefa75bdf67\",\"subtype\":\"Figure\",\"type\":\"Plot\"},\"ticker\":{\"id\":\"e447f920-b996-404f-b99c-d95ecca9397f\",\"type\":\"BasicTicker\"}},\"id\":\"e209da33-6118-4cb8-8b0a-ac9735570b6b\",\"type\":\"Grid\"},{\"attributes\":{\"callback\":null},\"id\":\"4bf9acd7-ce94-43dd-b2d7-c1aa85e284ba\",\"type\":\"DataRange1d\"},{\"attributes\":{\"fill_alpha\":{\"value\":0.1},\"fill_color\":{\"value\":\"#1f77b4\"},\"line_alpha\":{\"value\":0.1},\"line_color\":{\"value\":\"#1f77b4\"},\"size\":{\"units\":\"screen\",\"value\":8},\"x\":{\"field\":\"x1\"},\"y\":{\"field\":\"x2\"}},\"id\":\"365e730a-2c01-4c85-9ec2-b720f90ec37d\",\"type\":\"Circle\"},{\"attributes\":{},\"id\":\"e922bfb1-ad4c-45f7-be71-2b924cc1390b\",\"type\":\"BasicTicker\"},{\"attributes\":{\"callback\":null,\"column_names\":[\"names\",\"x2\",\"color\",\"x1\"],\"data\":{\"color\":[\"gray\",\"green\",\"blue\",\"yellow\",\"green\",\"blue\",\"red\",\"gray\",\"red\",\"gray\",\"green\",\"gray\",\"gray\",\"gray\",\"gray\",\"gray\",\"red\",\"gray\",\"gray\",\"gray\",\"gray\",\"gray\",\"yellow\",\"gray\",\"orange\",\"green\",\"gray\",\"gray\",\"gray\",\"gray\",\"gray\",\"gray\",\"red\",\"red\",\"gray\",\"gray\",\"yellow\",\"yellow\",\"gray\",\"gray\",\"red\",\"red\",\"gray\",\"gray\",\"gray\",\"green\",\"gray\",\"gray\",\"gray\",\"red\",\"gray\",\"gray\",\"gray\",\"gray\",\"gray\",\"yellow\",\"gray\",\"gray\",\"green\",\"gray\",\"green\",\"yellow\",\"green\",\"pink\",\"pink\",\"orange\",\"blue\",\"gray\",\"red\",\"gray\",\"gray\",\"gray\",\"gray\",\"gray\",\"red\",\"gray\",\"red\",\"gray\",\"red\",\"orange\",\"blue\",\"green\",\"gray\",\"gray\",\"gray\",\"gray\",\"gray\",\"red\",\"gray\",\"orange\",\"gray\",\"orange\",\"yellow\",\"gray\",\"gray\",\"gray\",\"yellow\",\"gray\",\"gray\",\"yellow\",\"gray\",\"pink\",\"yellow\",\"gray\",\"gray\",\"green\",\"gray\",\"gray\",\"gray\",\"gray\",\"gray\",\"red\",\"gray\",\"gray\",\"green\",\"gray\",\"red\",\"gray\",\"red\",\"gray\",\"red\",\"gray\",\"gray\",\"red\",\"green\",\"red\",\"gray\",\"green\",\"gray\",\"red\",\"gray\",\"gray\",\"gray\",\"gray\",\"yellow\",\"gray\",\"orange\",\"gray\",\"gray\",\"gray\",\"gray\",\"red\",\"red\",\"orange\",\"red\",\"yellow\",\"red\",\"red\",\"gray\",\"red\",\"gray\",\"gray\",\"gray\",\"gray\",\"gray\",\"yellow\",\"red\",\"gray\",\"red\",\"gray\",\"gray\",\"gray\",\"gray\",\"blue\",\"yellow\",\"green\",\"blue\",\"red\",\"gray\",\"gray\",\"red\",\"gray\",\"gray\",\"green\",\"gray\",\"yellow\",\"gray\",\"gray\",\"gray\",\"red\",\"gray\",\"gray\",\"gray\",\"gray\",\"gray\",\"red\",\"orange\",\"gray\",\"blue\",\"green\",\"gray\",\"green\",\"black\",\"green\",\"gray\",\"red\",\"orange\",\"red\",\"gray\",\"gray\",\"gray\",\"red\",\"red\",\"gray\",\"gray\",\"blue\",\"orange\",\"green\",\"orange\",\"gray\",\"gray\",\"gray\",\"green\",\"yellow\",\"gray\",\"orange\",\"gray\",\"green\",\"gray\",\"red\",\"gray\",\"gray\",\"yellow\",\"gray\",\"orange\",\"gray\",\"yellow\",\"red\",\"gray\",\"gray\",\"gray\",\"gray\",\"orange\",\"gray\",\"gray\",\"red\",\"gray\",\"gray\",\"yellow\",\"gray\",\"gray\",\"red\",\"gray\",\"black\",\"yellow\",\"gray\",\"green\",\"gray\",\"gray\",\"orange\",\"pink\",\"gray\",\"gray\",\"gray\",\"gray\",\"gray\",\"gray\",\"red\",\"blue\",\"orange\",\"orange\",\"gray\",\"gray\",\"yellow\",\"green\",\"red\",\"yellow\",\"gray\",\"red\",\"gray\",\"gray\",\"yellow\",\"gray\",\"red\",\"gray\",\"green\",\"green\",\"red\",\"yellow\",\"gray\",\"gray\",\"gray\",\"green\",\"orange\",\"green\",\"gray\",\"gray\",\"gray\",\"gray\",\"gray\",\"gray\",\"gray\",\"gray\",\"gray\",\"gray\",\"red\",\"gray\",\"gray\",\"gray\",\"gray\",\"gray\",\"yellow\",\"red\",\"yellow\",\"gray\",\"yellow\",\"orange\",\"gray\",\"gray\",\"blue\",\"red\",\"gray\",\"gray\",\"gray\",\"gray\",\"red\",\"orange\",\"gray\",\"red\",\"blue\",\"green\",\"green\",\"red\",\"green\",\"gray\",\"gray\",\"orange\",\"gray\",\"red\",\"gray\",\"green\",\"gray\",\"yellow\",\"gray\",\"orange\",\"gray\",\"yellow\",\"green\",\"green\",\"gray\",\"orange\",\"red\",\"green\",\"gray\",\"red\",\"yellow\",\"gray\",\"black\",\"gray\",\"gray\",\"red\",\"gray\",\"gray\",\"red\",\"yellow\",\"gray\",\"gray\",\"red\",\"red\",\"gray\",\"gray\",\"red\",\"gray\",\"red\",\"gray\",\"gray\",\"gray\",\"gray\",\"gray\",\"black\",\"orange\",\"gray\",\"black\",\"red\",\"gray\",\"orange\",\"gray\",\"gray\",\"gray\",\"yellow\",\"red\",\"red\",\"gray\",\"yellow\",\"red\",\"red\",\"green\",\"orange\",\"gray\",\"orange\",\"yellow\",\"gray\",\"gray\",\"gray\",\"green\",\"gray\",\"gray\",\"green\",\"green\",\"gray\",\"gray\",\"red\",\"gray\",\"gray\",\"gray\",\"yellow\",\"red\",\"blue\",\"gray\",\"red\",\"gray\",\"gray\",\"orange\",\"green\",\"red\",\"green\",\"orange\",\"gray\",\"gray\",\"pink\",\"gray\",\"red\",\"red\",\"green\",\"red\",\"gray\",\"gray\",\"gray\",\"orange\",\"red\",\"gray\",\"yellow\",\"gray\",\"orange\",\"gray\",\"yellow\",\"gray\",\"gray\",\"gray\",\"red\",\"gray\",\"gray\",\"red\",\"gray\",\"gray\",\"gray\",\"red\",\"yellow\",\"gray\",\"gray\",\"pink\",\"gray\",\"gray\",\"gray\",\"black\",\"gray\",\"gray\",\"gray\",\"red\",\"gray\",\"gray\",\"gray\",\"gray\",\"gray\",\"green\",\"green\",\"gray\",\"yellow\",\"gray\",\"red\",\"red\",\"red\",\"red\",\"orange\",\"gray\",\"gray\",\"red\",\"gray\",\"red\",\"red\",\"gray\",\"gray\",\"gray\",\"green\",\"gray\",\"green\",\"gray\",\"gray\",\"gray\",\"gray\",\"gray\",\"red\",\"red\",\"yellow\",\"gray\",\"red\",\"orange\",\"red\",\"gray\",\"gray\",\"gray\",\"gray\",\"gray\",\"red\",\"gray\",\"gray\",\"green\",\"gray\",\"gray\",\"gray\",\"gray\",\"blue\",\"orange\",\"gray\",\"gray\",\"gray\",\"gray\",\"gray\",\"red\",\"gray\",\"gray\",\"gray\",\"gray\",\"gray\",\"gray\",\"red\",\"gray\",\"gray\",\"black\",\"green\",\"green\",\"gray\",\"red\",\"red\",\"red\",\"gray\",\"gray\",\"green\",\"gray\",\"red\",\"gray\",\"red\",\"gray\",\"gray\",\"gray\",\"gray\",\"gray\",\"red\",\"yellow\",\"green\",\"gray\",\"gray\",\"gray\",\"blue\",\"gray\",\"gray\",\"gray\",\"green\",\"gray\",\"gray\",\"red\",\"red\",\"orange\",\"gray\",\"gray\",\"gray\",\"gray\",\"gray\",\"red\",\"gray\",\"gray\",\"green\",\"gray\",\"orange\",\"green\",\"yellow\",\"gray\",\"gray\",\"pink\",\"orange\",\"gray\",\"green\",\"yellow\",\"gray\",\"orange\",\"orange\",\"blue\",\"gray\",\"gray\",\"gray\",\"gray\",\"gray\",\"gray\",\"gray\",\"red\",\"gray\",\"gray\",\"gray\",\"red\",\"gray\",\"gray\",\"red\",\"gray\",\"gray\",\"gray\",\"gray\",\"gray\",\"yellow\",\"red\",\"red\",\"gray\",\"gray\",\"green\",\"yellow\",\"gray\",\"gray\",\"yellow\",\"red\",\"red\",\"yellow\",\"gray\",\"gray\",\"orange\",\"gray\",\"gray\",\"red\",\"gray\",\"gray\",\"red\",\"gray\",\"gray\",\"gray\",\"black\",\"gray\",\"gray\",\"gray\",\"gray\",\"gray\",\"gray\",\"gray\",\"gray\",\"green\",\"gray\",\"black\",\"red\",\"gray\",\"gray\",\"yellow\",\"gray\",\"gray\",\"gray\",\"gray\",\"red\",\"gray\",\"green\",\"gray\",\"yellow\",\"gray\",\"gray\",\"green\",\"gray\",\"yellow\",\"gray\",\"gray\",\"red\",\"red\",\"gray\",\"red\",\"gray\",\"gray\",\"red\",\"yellow\",\"gray\",\"gray\",\"gray\",\"gray\",\"orange\",\"red\",\"gray\",\"gray\",\"red\",\"green\",\"gray\",\"orange\",\"gray\",\"yellow\",\"gray\",\"gray\",\"red\",\"gray\",\"gray\",\"gray\",\"red\",\"red\",\"gray\",\"orange\",\"gray\",\"gray\",\"green\",\"red\",\"gray\",\"blue\",\"gray\",\"green\",\"orange\",\"red\",\"green\",\"red\",\"red\",\"green\",\"yellow\",\"gray\",\"gray\",\"gray\",\"gray\",\"red\",\"gray\",\"red\",\"gray\",\"gray\",\"orange\",\"gray\",\"green\",\"red\",\"orange\",\"gray\",\"gray\",\"green\",\"green\",\"red\",\"red\",\"red\",\"gray\",\"gray\",\"gray\",\"gray\",\"red\",\"yellow\",\"gray\",\"green\",\"red\",\"blue\",\"red\",\"gray\",\"pink\",\"gray\",\"green\",\"gray\",\"red\",\"gray\",\"gray\",\"gray\",\"blue\",\"yellow\",\"yellow\",\"red\",\"red\",\"gray\",\"yellow\",\"gray\",\"gray\",\"green\",\"gray\",\"red\",\"gray\",\"gray\",\"gray\",\"pink\",\"green\",\"gray\",\"gray\",\"gray\",\"red\",\"gray\",\"red\",\"red\",\"green\",\"gray\",\"red\",\"yellow\",\"gray\",\"red\",\"gray\",\"red\",\"gray\",\"gray\",\"gray\",\"gray\",\"gray\",\"orange\",\"green\",\"gray\",\"red\",\"gray\",\"gray\",\"yellow\",\"green\",\"red\",\"red\",\"gray\",\"green\",\"red\",\"gray\",\"gray\",\"green\",\"gray\",\"orange\",\"red\",\"gray\",\"orange\",\"gray\",\"gray\",\"orange\",\"gray\",\"gray\",\"gray\",\"orange\",\"red\",\"gray\",\"gray\",\"orange\",\"red\",\"orange\",\"gray\",\"orange\",\"red\",\"gray\",\"orange\",\"gray\",\"green\",\"red\",\"gray\",\"orange\",\"gray\",\"red\",\"yellow\",\"gray\",\"red\",\"red\",\"gray\",\"gray\",\"red\",\"green\",\"green\",\"gray\",\"gray\",\"gray\",\"yellow\",\"gray\",\"orange\",\"green\",\"gray\",\"red\",\"green\",\"gray\",\"gray\",\"red\",\"green\",\"gray\",\"gray\",\"red\",\"gray\",\"gray\",\"gray\",\"gray\",\"green\",\"gray\",\"gray\",\"gray\",\"gray\",\"gray\",\"gray\",\"gray\",\"gray\",\"orange\",\"gray\",\"gray\",\"yellow\",\"red\",\"red\",\"gray\",\"red\",\"gray\",\"gray\",\"red\",\"gray\",\"orange\",\"gray\",\"yellow\",\"gray\",\"gray\",\"gray\",\"green\",\"blue\",\"gray\",\"yellow\",\"orange\",\"gray\",\"gray\",\"gray\",\"gray\",\"gray\",\"gray\",\"gray\",\"gray\",\"red\",\"gray\",\"gray\",\"red\",\"gray\",\"gray\",\"red\",\"red\",\"orange\",\"gray\",\"pink\",\"orange\",\"green\",\"gray\",\"gray\",\"yellow\",\"gray\",\"gray\",\"red\",\"yellow\",\"green\",\"gray\",\"red\",\"green\",\"gray\",\"red\",\"gray\",\"red\",\"gray\",\"gray\",\"red\",\"gray\",\"red\",\"gray\",\"orange\",\"gray\",\"gray\",\"red\",\"gray\",\"green\",\"gray\",\"gray\",\"gray\",\"gray\",\"gray\",\"orange\",\"orange\",\"gray\",\"orange\",\"gray\",\"gray\",\"green\",\"green\",\"red\",\"red\",\"gray\",\"yellow\",\"yellow\",\"gray\",\"gray\",\"gray\",\"orange\",\"yellow\",\"green\",\"gray\",\"gray\",\"gray\",\"red\",\"gray\",\"yellow\",\"gray\",\"gray\",\"gray\",\"gray\",\"red\",\"gray\",\"gray\",\"gray\",\"pink\",\"gray\",\"gray\",\"gray\",\"gray\",\"red\",\"gray\",\"orange\",\"gray\",\"black\",\"gray\",\"blue\",\"gray\",\"red\",\"gray\",\"yellow\",\"gray\",\"gray\",\"red\",\"gray\",\"red\",\"gray\",\"gray\",\"gray\",\"gray\",\"gray\",\"gray\",\"gray\",\"yellow\",\"yellow\",\"gray\",\"black\",\"blue\",\"gray\",\"red\",\"yellow\",\"pink\",\"gray\",\"green\",\"gray\",\"yellow\",\"gray\",\"red\",\"black\",\"gray\",\"green\",\"gray\",\"gray\",\"gray\",\"gray\",\"gray\",\"red\",\"gray\",\"gray\",\"orange\",\"red\",\"yellow\",\"red\",\"gray\",\"gray\",\"green\",\"green\",\"black\",\"red\",\"gray\",\"gray\",\"green\",\"gray\",\"gray\",\"gray\",\"orange\",\"gray\",\"red\",\"pink\",\"gray\",\"gray\",\"orange\",\"gray\",\"red\",\"green\",\"gray\",\"gray\",\"gray\",\"gray\",\"yellow\",\"orange\",\"gray\",\"orange\",\"gray\",\"red\",\"red\",\"orange\",\"gray\",\"gray\",\"red\",\"gray\",\"green\",\"yellow\",\"red\",\"red\",\"gray\",\"gray\",\"gray\",\"gray\",\"red\",\"gray\",\"gray\",\"gray\",\"gray\",\"orange\",\"gray\",\"gray\",\"gray\",\"gray\",\"red\",\"red\",\"gray\",\"red\",\"gray\",\"yellow\",\"gray\",\"gray\",\"gray\",\"blue\",\"red\",\"yellow\",\"gray\",\"green\",\"gray\",\"gray\",\"orange\",\"orange\",\"gray\",\"gray\",\"red\",\"gray\",\"gray\",\"gray\",\"gray\",\"gray\",\"gray\",\"gray\",\"gray\",\"gray\",\"yellow\",\"red\",\"red\",\"red\",\"gray\",\"gray\",\"gray\",\"pink\",\"red\",\"orange\",\"gray\",\"green\",\"gray\",\"gray\",\"gray\",\"gray\",\"gray\",\"yellow\",\"blue\",\"gray\",\"gray\",\"gray\",\"red\",\"red\",\"yellow\",\"gray\",\"red\",\"red\",\"gray\",\"gray\",\"gray\",\"gray\",\"gray\",\"gray\",\"gray\",\"gray\",\"green\",\"gray\",\"gray\",\"green\",\"red\",\"red\",\"gray\",\"red\",\"gray\",\"red\",\"red\",\"gray\",\"red\",\"pink\",\"red\",\"gray\",\"red\",\"yellow\",\"gray\",\"red\",\"yellow\",\"pink\",\"gray\",\"red\",\"gray\",\"gray\",\"gray\",\"green\",\"gray\",\"gray\",\"gray\",\"gray\",\"red\",\"yellow\",\"red\",\"gray\",\"gray\",\"red\",\"green\",\"gray\",\"orange\",\"gray\",\"red\",\"green\",\"yellow\",\"green\",\"red\",\"gray\",\"gray\",\"red\",\"gray\",\"green\",\"gray\",\"green\",\"red\",\"red\",\"gray\",\"pink\",\"green\",\"gray\",\"gray\",\"gray\",\"gray\",\"gray\",\"green\",\"yellow\",\"gray\",\"yellow\",\"gray\",\"orange\",\"gray\",\"gray\",\"red\",\"gray\",\"red\",\"yellow\",\"gray\",\"blue\",\"gray\",\"gray\",\"gray\",\"gray\",\"gray\",\"gray\",\"green\",\"green\",\"gray\",\"blue\",\"gray\",\"gray\",\"yellow\",\"green\",\"gray\",\"green\",\"red\",\"orange\",\"red\",\"gray\",\"gray\",\"gray\",\"red\",\"red\",\"gray\",\"red\",\"orange\",\"gray\",\"gray\",\"gray\",\"gray\",\"gray\",\"red\",\"gray\",\"orange\",\"gray\",\"gray\",\"gray\",\"yellow\",\"red\",\"yellow\",\"green\",\"yellow\",\"red\",\"gray\",\"red\",\"gray\",\"yellow\",\"gray\",\"gray\",\"red\",\"gray\",\"orange\",\"green\",\"gray\",\"gray\",\"gray\",\"green\",\"gray\",\"yellow\",\"gray\",\"gray\",\"gray\",\"red\",\"red\",\"gray\",\"red\",\"gray\",\"green\",\"gray\",\"gray\",\"gray\",\"gray\",\"red\",\"gray\",\"gray\",\"gray\",\"red\",\"green\",\"gray\",\"gray\",\"gray\",\"gray\",\"gray\",\"gray\",\"yellow\",\"pink\",\"gray\",\"gray\",\"gray\",\"gray\",\"orange\",\"gray\",\"gray\",\"gray\",\"gray\",\"orange\",\"pink\",\"gray\",\"gray\",\"orange\",\"orange\",\"yellow\",\"yellow\",\"gray\",\"gray\",\"gray\",\"yellow\",\"red\",\"gray\",\"red\",\"gray\",\"gray\",\"gray\",\"gray\",\"pink\",\"red\",\"gray\",\"gray\",\"red\",\"green\",\"gray\",\"yellow\",\"red\",\"gray\",\"yellow\",\"gray\",\"orange\",\"gray\",\"gray\",\"green\",\"gray\",\"gray\",\"blue\",\"green\",\"red\",\"gray\",\"gray\",\"orange\",\"orange\",\"gray\",\"gray\",\"orange\",\"green\",\"green\",\"gray\",\"green\",\"gray\",\"gray\",\"yellow\",\"green\",\"gray\",\"red\",\"yellow\",\"gray\",\"gray\",\"gray\",\"gray\",\"yellow\",\"gray\",\"gray\",\"red\",\"yellow\",\"gray\",\"red\",\"yellow\",\"yellow\",\"red\",\"pink\",\"gray\",\"gray\",\"gray\",\"gray\",\"yellow\",\"gray\",\"red\",\"gray\",\"green\",\"gray\",\"black\",\"red\",\"orange\",\"gray\",\"gray\",\"red\",\"yellow\",\"gray\",\"gray\",\"gray\",\"yellow\",\"gray\",\"gray\",\"green\",\"pink\",\"gray\",\"gray\",\"gray\",\"red\",\"red\",\"gray\",\"gray\",\"pink\",\"gray\",\"gray\",\"orange\",\"black\",\"gray\",\"gray\",\"gray\",\"gray\",\"red\",\"red\",\"gray\",\"gray\",\"gray\",\"gray\",\"gray\",\"gray\",\"gray\",\"gray\",\"yellow\",\"gray\",\"gray\",\"gray\",\"gray\",\"gray\",\"gray\",\"red\",\"red\",\"gray\",\"green\",\"black\",\"gray\",\"gray\",\"gray\",\"green\",\"gray\",\"gray\",\"gray\",\"yellow\",\"yellow\",\"gray\",\"gray\",\"gray\",\"red\",\"pink\",\"orange\",\"red\",\"red\",\"gray\",\"orange\",\"blue\",\"orange\",\"red\",\"gray\",\"gray\",\"gray\",\"red\",\"gray\",\"red\",\"green\",\"red\",\"red\",\"yellow\",\"gray\",\"red\",\"green\",\"gray\",\"gray\",\"gray\",\"green\",\"red\",\"gray\",\"black\",\"gray\",\"gray\",\"gray\",\"red\",\"red\",\"orange\",\"gray\",\"gray\",\"red\",\"red\",\"gray\",\"gray\",\"yellow\",\"red\",\"yellow\",\"gray\",\"gray\",\"yellow\",\"gray\",\"red\",\"gray\",\"gray\",\"red\",\"orange\",\"gray\",\"yellow\",\"red\",\"gray\",\"gray\",\"red\",\"gray\",\"gray\",\"red\",\"gray\",\"gray\",\"gray\",\"gray\",\"black\",\"gray\",\"yellow\",\"red\",\"green\",\"gray\",\"gray\",\"red\",\"gray\",\"orange\",\"yellow\",\"red\",\"gray\",\"gray\",\"yellow\",\"gray\",\"yellow\",\"gray\",\"gray\",\"red\",\"gray\",\"gray\",\"gray\",\"gray\",\"gray\",\"orange\",\"red\",\"yellow\",\"red\",\"gray\",\"red\",\"yellow\",\"gray\"],\"names\":[0,2,4,3,2,4,1,0,1,0,2,0,0,0,0,0,1,0,0,0,0,0,3,0,5,2,0,0,0,0,0,0,1,1,0,0,3,3,0,0,1,1,0,0,0,2,0,0,0,1,0,0,0,0,0,3,0,0,2,0,2,3,2,7,7,5,4,0,1,0,0,0,0,0,1,0,1,0,1,5,4,2,0,0,0,0,0,1,0,5,0,5,3,0,0,0,3,0,0,3,0,7,3,0,0,2,0,0,0,0,0,1,0,0,2,0,1,0,1,0,1,0,0,1,2,1,0,2,0,1,0,0,0,0,3,0,5,0,0,0,0,1,1,5,1,3,1,1,0,1,0,0,0,0,0,3,1,0,1,0,0,0,0,4,3,2,4,1,0,0,1,0,0,2,0,3,0,0,0,1,0,0,0,0,0,1,5,0,4,2,0,2,6,2,0,1,5,1,0,0,0,1,1,0,0,4,5,2,5,0,0,0,2,3,0,5,0,2,0,1,0,0,3,0,5,0,3,1,0,0,0,0,5,0,0,1,0,0,3,0,0,1,0,6,3,0,2,0,0,5,7,0,0,0,0,0,0,1,4,5,5,0,0,3,2,1,3,0,1,0,0,3,0,1,0,2,2,1,3,0,0,0,2,5,2,0,0,0,0,0,0,0,0,0,0,1,0,0,0,0,0,3,1,3,0,3,5,0,0,4,1,0,0,0,0,1,5,0,1,4,2,2,1,2,0,0,5,0,1,0,2,0,3,0,5,0,3,2,2,0,5,1,2,0,1,3,0,6,0,0,1,0,0,1,3,0,0,1,1,0,0,1,0,1,0,0,0,0,0,6,5,0,6,1,0,5,0,0,0,3,1,1,0,3,1,1,2,5,0,5,3,0,0,0,2,0,0,2,2,0,0,1,0,0,0,3,1,4,0,1,0,0,5,2,1,2,5,0,0,7,0,1,1,2,1,0,0,0,5,1,0,3,0,5,0,3,0,0,0,1,0,0,1,0,0,0,1,3,0,0,7,0,0,0,6,0,0,0,1,0,0,0,0,0,2,2,0,3,0,1,1,1,1,5,0,0,1,0,1,1,0,0,0,2,0,2,0,0,0,0,0,1,1,3,0,1,5,1,0,0,0,0,0,1,0,0,2,0,0,0,0,4,5,0,0,0,0,0,1,0,0,0,0,0,0,1,0,0,6,2,2,0,1,1,1,0,0,2,0,1,0,1,0,0,0,0,0,1,3,2,0,0,0,4,0,0,0,2,0,0,1,1,5,0,0,0,0,0,1,0,0,2,0,5,2,3,0,0,7,5,0,2,3,0,5,5,4,0,0,0,0,0,0,0,1,0,0,0,1,0,0,1,0,0,0,0,0,3,1,1,0,0,2,3,0,0,3,1,1,3,0,0,5,0,0,1,0,0,1,0,0,0,6,0,0,0,0,0,0,0,0,2,0,6,1,0,0,3,0,0,0,0,1,0,2,0,3,0,0,2,0,3,0,0,1,1,0,1,0,0,1,3,0,0,0,0,5,1,0,0,1,2,0,5,0,3,0,0,1,0,0,0,1,1,0,5,0,0,2,1,0,4,0,2,5,1,2,1,1,2,3,0,0,0,0,1,0,1,0,0,5,0,2,1,5,0,0,2,2,1,1,1,0,0,0,0,1,3,0,2,1,4,1,0,7,0,2,0,1,0,0,0,4,3,3,1,1,0,3,0,0,2,0,1,0,0,0,7,2,0,0,0,1,0,1,1,2,0,1,3,0,1,0,1,0,0,0,0,0,5,2,0,1,0,0,3,2,1,1,0,2,1,0,0,2,0,5,1,0,5,0,0,5,0,0,0,5,1,0,0,5,1,5,0,5,1,0,5,0,2,1,0,5,0,1,3,0,1,1,0,0,1,2,2,0,0,0,3,0,5,2,0,1,2,0,0,1,2,0,0,1,0,0,0,0,2,0,0,0,0,0,0,0,0,5,0,0,3,1,1,0,1,0,0,1,0,5,0,3,0,0,0,2,4,0,3,5,0,0,0,0,0,0,0,0,1,0,0,1,0,0,1,1,5,0,7,5,2,0,0,3,0,0,1,3,2,0,1,2,0,1,0,1,0,0,1,0,1,0,5,0,0,1,0,2,0,0,0,0,0,5,5,0,5,0,0,2,2,1,1,0,3,3,0,0,0,5,3,2,0,0,0,1,0,3,0,0,0,0,1,0,0,0,7,0,0,0,0,1,0,5,0,6,0,4,0,1,0,3,0,0,1,0,1,0,0,0,0,0,0,0,3,3,0,6,4,0,1,3,7,0,2,0,3,0,1,6,0,2,0,0,0,0,0,1,0,0,5,1,3,1,0,0,2,2,6,1,0,0,2,0,0,0,5,0,1,7,0,0,5,0,1,2,0,0,0,0,3,5,0,5,0,1,1,5,0,0,1,0,2,3,1,1,0,0,0,0,1,0,0,0,0,5,0,0,0,0,1,1,0,1,0,3,0,0,0,4,1,3,0,2,0,0,5,5,0,0,1,0,0,0,0,0,0,0,0,0,3,1,1,1,0,0,0,7,1,5,0,2,0,0,0,0,0,3,4,0,0,0,1,1,3,0,1,1,0,0,0,0,0,0,0,0,2,0,0,2,1,1,0,1,0,1,1,0,1,7,1,0,1,3,0,1,3,7,0,1,0,0,0,2,0,0,0,0,1,3,1,0,0,1,2,0,5,0,1,2,3,2,1,0,0,1,0,2,0,2,1,1,0,7,2,0,0,0,0,0,2,3,0,3,0,5,0,0,1,0,1,3,0,4,0,0,0,0,0,0,2,2,0,4,0,0,3,2,0,2,1,5,1,0,0,0,1,1,0,1,5,0,0,0,0,0,1,0,5,0,0,0,3,1,3,2,3,1,0,1,0,3,0,0,1,0,5,2,0,0,0,2,0,3,0,0,0,1,1,0,1,0,2,0,0,0,0,1,0,0,0,1,2,0,0,0,0,0,0,3,7,0,0,0,0,5,0,0,0,0,5,7,0,0,5,5,3,3,0,0,0,3,1,0,1,0,0,0,0,7,1,0,0,1,2,0,3,1,0,3,0,5,0,0,2,0,0,4,2,1,0,0,5,5,0,0,5,2,2,0,2,0,0,3,2,0,1,3,0,0,0,0,3,0,0,1,3,0,1,3,3,1,7,0,0,0,0,3,0,1,0,2,0,6,1,5,0,0,1,3,0,0,0,3,0,0,2,7,0,0,0,1,1,0,0,7,0,0,5,6,0,0,0,0,1,1,0,0,0,0,0,0,0,0,3,0,0,0,0,0,0,1,1,0,2,6,0,0,0,2,0,0,0,3,3,0,0,0,1,7,5,1,1,0,5,4,5,1,0,0,0,1,0,1,2,1,1,3,0,1,2,0,0,0,2,1,0,6,0,0,0,1,1,5,0,0,1,1,0,0,3,1,3,0,0,3,0,1,0,0,1,5,0,3,1,0,0,1,0,0,1,0,0,0,0,6,0,3,1,2,0,0,1,0,5,3,1,0,0,3,0,3,0,0,1,0,0,0,0,0,5,1,3,1,0,1,3,0],\"x1\":{\"__ndarray__\":\"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\",\"dtype\":\"float64\",\"shape\":[1585]},\"x2\":{\"__ndarray__\":\"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\",\"dtype\":\"float64\",\"shape\":[1585]}}},\"id\":\"69e98e5f-ffed-4f82-b29b-d7b9009e9cc2\",\"type\":\"ColumnDataSource\"},{\"attributes\":{},\"id\":\"c3063725-d582-465e-96aa-792381023fb0\",\"type\":\"ToolEvents\"},{\"attributes\":{\"plot\":{\"id\":\"77b04ccc-f1f3-4ae2-91cf-ecefa75bdf67\",\"subtype\":\"Figure\",\"type\":\"Plot\"}},\"id\":\"a236bc50-c751-40f2-a51b-947709b49842\",\"type\":\"WheelZoomTool\"},{\"attributes\":{},\"id\":\"e447f920-b996-404f-b99c-d95ecca9397f\",\"type\":\"BasicTicker\"},{\"attributes\":{},\"id\":\"1edd583f-24b3-4493-a480-ffacec9072ac\",\"type\":\"BasicTickFormatter\"},{\"attributes\":{\"formatter\":{\"id\":\"1edd583f-24b3-4493-a480-ffacec9072ac\",\"type\":\"BasicTickFormatter\"},\"plot\":{\"id\":\"77b04ccc-f1f3-4ae2-91cf-ecefa75bdf67\",\"subtype\":\"Figure\",\"type\":\"Plot\"},\"ticker\":{\"id\":\"e447f920-b996-404f-b99c-d95ecca9397f\",\"type\":\"BasicTicker\"}},\"id\":\"d66d083d-d588-4f9b-8796-bfa884c8e7f6\",\"type\":\"LinearAxis\"},{\"attributes\":{\"dimension\":1,\"plot\":{\"id\":\"77b04ccc-f1f3-4ae2-91cf-ecefa75bdf67\",\"subtype\":\"Figure\",\"type\":\"Plot\"},\"ticker\":{\"id\":\"e922bfb1-ad4c-45f7-be71-2b924cc1390b\",\"type\":\"BasicTicker\"}},\"id\":\"0180c4f8-0569-453c-84a1-008fc3263bd3\",\"type\":\"Grid\"},{\"attributes\":{\"plot\":null,\"text\":\"T-SNE for BOW representations of Text\"},\"id\":\"7b514703-4bbc-47f6-a1d0-c007ea014cfd\",\"type\":\"Title\"},{\"attributes\":{\"plot\":{\"id\":\"77b04ccc-f1f3-4ae2-91cf-ecefa75bdf67\",\"subtype\":\"Figure\",\"type\":\"Plot\"}},\"id\":\"cea3f0f5-5128-4568-8c1f-9543fd39c931\",\"type\":\"PanTool\"},{\"attributes\":{\"active_drag\":\"auto\",\"active_scroll\":\"auto\",\"active_tap\":\"auto\",\"tools\":[{\"id\":\"cea3f0f5-5128-4568-8c1f-9543fd39c931\",\"type\":\"PanTool\"},{\"id\":\"a236bc50-c751-40f2-a51b-947709b49842\",\"type\":\"WheelZoomTool\"},{\"id\":\"57dd4191-13fe-4250-b92a-00bce4d09d7e\",\"type\":\"ResetTool\"},{\"id\":\"c032a9a1-5b89-4c03-a84b-70103de15263\",\"type\":\"SaveTool\"}]},\"id\":\"fe72cb78-7ef3-44ca-a4e9-7f3803c0e209\",\"type\":\"Toolbar\"},{\"attributes\":{\"plot\":{\"id\":\"77b04ccc-f1f3-4ae2-91cf-ecefa75bdf67\",\"subtype\":\"Figure\",\"type\":\"Plot\"}},\"id\":\"c032a9a1-5b89-4c03-a84b-70103de15263\",\"type\":\"SaveTool\"},{\"attributes\":{\"plot\":{\"id\":\"77b04ccc-f1f3-4ae2-91cf-ecefa75bdf67\",\"subtype\":\"Figure\",\"type\":\"Plot\"}},\"id\":\"57dd4191-13fe-4250-b92a-00bce4d09d7e\",\"type\":\"ResetTool\"},{\"attributes\":{},\"id\":\"61248f08-29cd-4fa4-b0b5-d92efe621865\",\"type\":\"BasicTickFormatter\"},{\"attributes\":{\"below\":[{\"id\":\"d66d083d-d588-4f9b-8796-bfa884c8e7f6\",\"type\":\"LinearAxis\"}],\"left\":[{\"id\":\"325df1d3-cf90-473d-a984-088a9a815c36\",\"type\":\"LinearAxis\"}],\"renderers\":[{\"id\":\"d66d083d-d588-4f9b-8796-bfa884c8e7f6\",\"type\":\"LinearAxis\"},{\"id\":\"e209da33-6118-4cb8-8b0a-ac9735570b6b\",\"type\":\"Grid\"},{\"id\":\"325df1d3-cf90-473d-a984-088a9a815c36\",\"type\":\"LinearAxis\"},{\"id\":\"0180c4f8-0569-453c-84a1-008fc3263bd3\",\"type\":\"Grid\"},{\"id\":\"738a8711-73ee-4bb4-9ced-c586d300f76d\",\"type\":\"GlyphRenderer\"}],\"title\":{\"id\":\"7b514703-4bbc-47f6-a1d0-c007ea014cfd\",\"type\":\"Title\"},\"tool_events\":{\"id\":\"c3063725-d582-465e-96aa-792381023fb0\",\"type\":\"ToolEvents\"},\"toolbar\":{\"id\":\"fe72cb78-7ef3-44ca-a4e9-7f3803c0e209\",\"type\":\"Toolbar\"},\"toolbar_location\":\"above\",\"x_range\":{\"id\":\"094c39c6-c20b-4512-8a53-30c2541555e2\",\"type\":\"DataRange1d\"},\"y_range\":{\"id\":\"4bf9acd7-ce94-43dd-b2d7-c1aa85e284ba\",\"type\":\"DataRange1d\"}},\"id\":\"77b04ccc-f1f3-4ae2-91cf-ecefa75bdf67\",\"subtype\":\"Figure\",\"type\":\"Plot\"},{\"attributes\":{\"fill_color\":{\"field\":\"color\"},\"line_color\":{\"field\":\"color\"},\"size\":{\"units\":\"screen\",\"value\":8},\"x\":{\"field\":\"x1\"},\"y\":{\"field\":\"x2\"}},\"id\":\"7eea54e2-a2d1-431f-bc68-88bcd1ccc8fd\",\"type\":\"Circle\"},{\"attributes\":{\"data_source\":{\"id\":\"69e98e5f-ffed-4f82-b29b-d7b9009e9cc2\",\"type\":\"ColumnDataSource\"},\"glyph\":{\"id\":\"7eea54e2-a2d1-431f-bc68-88bcd1ccc8fd\",\"type\":\"Circle\"},\"hover_glyph\":null,\"nonselection_glyph\":{\"id\":\"365e730a-2c01-4c85-9ec2-b720f90ec37d\",\"type\":\"Circle\"},\"selection_glyph\":null},\"id\":\"738a8711-73ee-4bb4-9ced-c586d300f76d\",\"type\":\"GlyphRenderer\"}],\"root_ids\":[\"77b04ccc-f1f3-4ae2-91cf-ecefa75bdf67\"]},\"title\":\"Bokeh Application\",\"version\":\"0.12.4\"}};\n",
       "            var render_items = [{\"docid\":\"92c629f5-c166-4c89-b601-9f71a23ae437\",\"elementid\":\"8d766c0d-b46c-4ef5-8877-e8857e247360\",\"modelid\":\"77b04ccc-f1f3-4ae2-91cf-ecefa75bdf67\"}];\n",
       "            \n",
       "            Bokeh.embed.embed_items(docs_json, render_items);\n",
       "          };\n",
       "          if (document.readyState != \"loading\") fn();\n",
       "          else document.addEventListener(\"DOMContentLoaded\", fn);\n",
       "        })();\n",
       "      },\n",
       "      function(Bokeh) {\n",
       "      }\n",
       "    ];\n",
       "  \n",
       "    function run_inline_js() {\n",
       "      \n",
       "      if ((window.Bokeh !== undefined) || (force === true)) {\n",
       "        for (var i = 0; i < inline_js.length; i++) {\n",
       "          inline_js[i](window.Bokeh);\n",
       "        }if (force === true) {\n",
       "          display_loaded();\n",
       "        }} else if (Date.now() < window._bokeh_timeout) {\n",
       "        setTimeout(run_inline_js, 100);\n",
       "      } else if (!window._bokeh_failed_load) {\n",
       "        console.log(\"Bokeh: BokehJS failed to load within specified timeout.\");\n",
       "        window._bokeh_failed_load = true;\n",
       "      } else if (force !== true) {\n",
       "        var cell = $(document.getElementById(\"8d766c0d-b46c-4ef5-8877-e8857e247360\")).parents('.cell').data().cell;\n",
       "        cell.output_area.append_execute_result(NB_LOAD_WARNING)\n",
       "      }\n",
       "  \n",
       "    }\n",
       "  \n",
       "    if (window._bokeh_is_loading === 0) {\n",
       "      console.log(\"Bokeh: BokehJS loaded, going straight to plotting\");\n",
       "      run_inline_js();\n",
       "    } else {\n",
       "      load_libs(js_urls, function() {\n",
       "        console.log(\"Bokeh: BokehJS plotting callback run at\", now());\n",
       "        run_inline_js();\n",
       "      });\n",
       "    }\n",
       "  }(this));\n",
       "</script>"
      ]
     },
     "metadata": {},
     "output_type": "display_data"
    }
   ],
   "source": [
    "p = figure(tools=\"pan,wheel_zoom,reset,save\",\n",
    "           toolbar_location=\"above\",\n",
    "           title=\"T-SNE for BOW representations of Text\")\n",
    "\n",
    "source = ColumnDataSource(data=dict(x1=texts_tsne[:,0],\n",
    "                           x2=texts_tsne[:,1],\n",
    "                           names=Y_train_labels,\n",
    "                           color=label_color))\n",
    "\n",
    "p.scatter(x=\"x1\", y=\"x2\", size=8, source=source, color=\"color\")\n",
    "#labels = LabelSet(x=\"x1\", y=\"x2\", text=\"names\", y_offset=6,\n",
    "#                  text_font_size=\"8pt\", text_color=\"#555555\",\n",
    "#                  source=source, text_align='center')\n",
    "#p.add_layout(labels)\n",
    "\n",
    "show(p)\n"
   ]
  },
  {
   "cell_type": "markdown",
   "metadata": {},
   "source": [
    "### Define Model"
   ]
  },
  {
   "cell_type": "code",
   "execution_count": 222,
   "metadata": {
    "collapsed": true
   },
   "outputs": [],
   "source": [
    "import tensorflow as tf\n",
    "\n",
    "class TEDClassifier:\n",
    "    def __init__(self, num_classes, embedding_size, batch_size):\n",
    "        self.num_classes = num_classes\n",
    "        self.embedding_size = embedding_size\n",
    "        self.batch_size = batch_size\n",
    "        \n",
    "        # Placeholders\n",
    "        self.input_x = tf.placeholder(tf.float32, [None, self.embedding_size], name='input_x')\n",
    "        self.input_y = tf.placeholder(tf.float32, [None, self.num_classes], name='input_y')\n",
    "\n",
    "        # Hidden Layer\n",
    "        self.W = tf.Variable(tf.zeros([self.embedding_size, self.embedding_size]), name='W')\n",
    "        self.b = tf.Variable(tf.zeros([self.embedding_size]), name='b')\n",
    "        \n",
    "        self.h = tf.tanh(tf.matmul(self.input_x, self.W) + self.b)\n",
    "        \n",
    "        # Output Layer\n",
    "        self.V = tf.Variable(tf.zeros([self.embedding_size, self.num_classes]), name='V')\n",
    "        self.c = tf.Variable(tf.zeros([self.num_classes]), name='c')\n",
    "        self.y = tf.matmul(self.h, self.V) + self.c\n",
    "        \n",
    "        # Loss function\n",
    "        self.cross_entropy = tf.reduce_mean(tf.nn.softmax_cross_entropy_with_logits(self.y, self.input_y))\n",
    "\n",
    "        # Tensorflow session\n",
    "        self.sess = tf.Session()\n",
    "    \n",
    "    def fit(self, X, Y):\n",
    "        # Initialise variables\n",
    "        init = tf.global_variables_initializer()\n",
    "        self.sess.run(init)\n",
    "\n",
    "        n = X.shape[0] # number of datapoints\n",
    "\n",
    "        train_step = tf.train.AdamOptimizer(1e-4).minimize(self.cross_entropy)\n",
    "        correct_prediction = tf.equal(tf.argmax(self.y,1), tf.argmax(self.input_y,1))\n",
    "        accuracy = tf.reduce_mean(tf.cast(correct_prediction, tf.float32))\n",
    "        self.sess.run(tf.global_variables_initializer())\n",
    "\n",
    "\n",
    "        i = 0\n",
    "        while i < n:\n",
    "            j = min(i + self.batch_size, n)\n",
    "            batch = (X[i:j], Y[i:j])\n",
    "\n",
    "            if i%300 == 0:\n",
    "                train_accuracy = accuracy.eval(session=self.sess, feed_dict={\n",
    "                    self.input_x:batch[0], self.input_y: batch[1]})\n",
    "                # print(\"step %d, training accuracy %g\"%(i, train_accuracy))\n",
    "            train_step.run(session=self.sess, feed_dict={self.input_x: batch[0], self.input_y: batch[1]})\n",
    "\n",
    "            # Next batch\n",
    "            i = j\n",
    "\n",
    "    \n",
    "    def predict(self, X):\n",
    "        y = self.y.eval(session=self.sess, feed_dict={self.input_x:X})        \n",
    "        classification = tf.argmax(tf.nn.softmax(y), 1)\n",
    "\n",
    "        return self.sess.run(classification)\n"
   ]
  },
  {
   "cell_type": "markdown",
   "metadata": {},
   "source": [
    "### Train the Model"
   ]
  },
  {
   "cell_type": "code",
   "execution_count": 268,
   "metadata": {
    "collapsed": false
   },
   "outputs": [],
   "source": [
    "NUM_CLASSES = 8\n",
    "EMBEDDING_SIZE = 50\n",
    "BATCH_SIZE = 50\n",
    "\n",
    "cls = TEDClassifier(NUM_CLASSES, EMBEDDING_SIZE, BATCH_SIZE)\n",
    "cls.fit(X_train,Y_train)\n"
   ]
  },
  {
   "cell_type": "markdown",
   "metadata": {},
   "source": [
    "### Prediction on entire Test Set"
   ]
  },
  {
   "cell_type": "code",
   "execution_count": 212,
   "metadata": {
    "collapsed": false
   },
   "outputs": [
    {
     "name": "stdout",
     "output_type": "stream",
     "text": [
      "0.484\n"
     ]
    }
   ],
   "source": [
    "# Run Prediction on Test set\n",
    "prediction = cls.predict(X_test)\n",
    "\n",
    "# Compute error\n",
    "num_correctly_classified = np.sum(prediction == Y_test_labels)\n",
    "\n",
    "accuracy_test = num_correctly_classified / n_test\n",
    "print(accuracy_test)"
   ]
  },
  {
   "cell_type": "markdown",
   "metadata": {
    "collapsed": true
   },
   "source": [
    "### Learning Curve"
   ]
  },
  {
   "cell_type": "code",
   "execution_count": 264,
   "metadata": {
    "collapsed": false
   },
   "outputs": [
    {
     "name": "stdout",
     "output_type": "stream",
     "text": [
      "Train model using 10% of the training set.\t ✓\n",
      "\tAccuracy (Train): 0.5316455696202531%.\n",
      "\tAccuracy (Test): 0.544%.\n",
      "Train model using 20% of the training set.\t ✓\n",
      "\tAccuracy (Train): 0.5299684542586751%.\n",
      "\tAccuracy (Test): 0.544%.\n",
      "Train model using 30% of the training set.\t ✓\n",
      "\tAccuracy (Train): 0.19157894736842104%.\n",
      "\tAccuracy (Test): 0.22%.\n",
      "Train model using 40% of the training set.\t ✓\n",
      "\tAccuracy (Train): 0.19085173501577288%.\n",
      "\tAccuracy (Test): 0.22%.\n",
      "Train model using 50% of the training set.\t ✓\n",
      "\tAccuracy (Train): 0.5340909090909091%.\n",
      "\tAccuracy (Test): 0.544%.\n",
      "Train model using 60% of the training set.\t ✓\n",
      "\tAccuracy (Train): 0.5436382754994742%.\n",
      "\tAccuracy (Test): 0.544%.\n",
      "Train model using 70% of the training set.\t ✓\n",
      "\tAccuracy (Train): 0.5500450856627592%.\n",
      "\tAccuracy (Test): 0.544%.\n",
      "Train model using 80% of the training set.\t ✓\n",
      "\tAccuracy (Train): 0.5481072555205048%.\n",
      "\tAccuracy (Test): 0.544%.\n",
      "Train model using 90% of the training set.\t ✓\n",
      "\tAccuracy (Train): 0.5483870967741935%.\n",
      "\tAccuracy (Test): 0.544%.\n",
      "Train model using 100% of the training set.\t ✓\n",
      "\tAccuracy (Train): 0.5470031545741325%.\n",
      "\tAccuracy (Test): 0.544%.\n"
     ]
    }
   ],
   "source": [
    "accuracies_train = []\n",
    "accuracies_test = []\n",
    "\n",
    "step = 10 # Step size in percent\n",
    "\n",
    "for i in range(100 // step):\n",
    "    # Use only a subset n <= N_train of the training data (10%, 20%, ...,100%)\n",
    "    p = (i+1) * step\n",
    "    n_train_subset = int((p / 100) * n_train)\n",
    "    \n",
    "    X_train_subset = X_train[:n_train_subset]\n",
    "    Y_train_subset = Y_train[:n_train_subset]\n",
    "    \n",
    "    Y_train_subset_labels = Y_train_labels[:n_train_subset]\n",
    "    \n",
    "    # Initialise new classifier \n",
    "    cls = TEDClassifier(NUM_CLASSES, EMBEDDING_SIZE, BATCH_SIZE)\n",
    "    \n",
    "    # Train on X_subset as training data\n",
    "    print('Train model using {}% of the training set.'.format(p), end='')\n",
    "    cls.fit(X_train_subset, Y_train_subset)\n",
    "    print(u'\\t ✓')\n",
    "    \n",
    "    # Compute accuracies on test and train set\n",
    "    pred_train = cls.predict(X_train_subset) \n",
    "    accuracy_train = np.sum(pred_train == Y_train_subset_labels) / n_train_subset\n",
    "    print('\\tAccuracy (Train): {}%'.format(accuracy_train))\n",
    "    accuracies_train.append(accuracy_train)\n",
    "    \n",
    "    pred_test = cls.predict(X_test) \n",
    "    accuracy_test = np.sum(pred_test == Y_test_labels) / n_test\n",
    "    print('\\tAccuracy (Test): {}%'.format(accuracy_test))\n",
    "    accuracies_test.append(accuracy_test)\n",
    "    \n",
    "    \n",
    "    "
   ]
  },
  {
   "cell_type": "code",
   "execution_count": 270,
   "metadata": {
    "collapsed": false
   },
   "outputs": [
    {
     "data": {
      "image/png": "[encoded data removed]",
      "text/plain": [
       "<matplotlib.figure.Figure at 0x13e8abd30>"
      ]
     },
     "metadata": {},
     "output_type": "display_data"
    }
   ],
   "source": [
    "# Plot Learning curve\n",
    "steps = list(range(step, 100 + step, step))\n",
    "\n",
    "plt.plot(steps, accuracies_train, label='Train')\n",
    "plt.plot(steps, accuracies_test, label='Test')\n",
    "plt.legend()\n",
    "plt.show()"
   ]
  },
  {
   "cell_type": "code",
   "execution_count": null,
   "metadata": {
    "collapsed": true
   },
   "outputs": [],
   "source": []
  }
 ],
 "metadata": {
  "kernelspec": {
   "display_name": "Python 3",
   "language": "python",
   "name": "python3"
  },
  "language_info": {
   "codemirror_mode": {
    "name": "ipython",
    "version": 3
   },
   "file_extension": ".py",
   "mimetype": "text/x-python",
   "name": "python",
   "nbconvert_exporter": "python",
   "pygments_lexer": "ipython3",
   "version": "3.5.0"
  }
 },
 "nbformat": 4,
 "nbformat_minor": 2
}
